{
 "cells": [
  {
   "cell_type": "code",
   "execution_count": 1,
   "metadata": {},
   "outputs": [
    {
     "data": {
      "text/plain": [
       "{'especificas': ['C1', 'C2'],\n",
       " 'genericas': ['1b', '1e'],\n",
       " 'saberpro': ['SP5'],\n",
       " 'abet': ['1.1', '1.3', '6.1', '6.3'],\n",
       " 'dimension': []}"
      ]
     },
     "execution_count": 1,
     "metadata": {},
     "output_type": "execute_result"
    }
   ],
   "source": [
    "import pandas as pd\n",
    "import json\n",
    "from src.utils import load_courses, find_course\n",
    "from src.config import COMPETENCES_FILE, DESCRIPTION_FILE, ABET_ES_FILE\n",
    "\n",
    "data = load_courses()\n",
    "data[\"cursos\"]\n",
    "\n",
    "comp =find_course(\"22A05\")\n",
    "comp"
   ]
  },
  {
   "cell_type": "code",
   "execution_count": 2,
   "metadata": {},
   "outputs": [
    {
     "data": {
      "text/plain": [
       "{'competencias especificas': {'C1': 'Analiza y modela fenómenos y procesos para resolver problemas de gestión de información y del desarrollo de software, utilizando los fundamentos de las ciencias naturales y de la Ingeniería, con una visión sistémica del entorno.',\n",
       "  'C2': 'Diseña sistemas, componentes o procesos para satisfacer requerimientos, restricciones y especificaciones técnicas relacionadas con la gestión de información y el desarrollo de software, considerando aspectos técnicos y económicos.',\n",
       "  'C3': 'Formula y evalúa proyectos de ingeniería de software y gestión de las TIC, para su ejecución y administración, teniendo conciencia de sus implicaciones éticas, económicas y legales.'},\n",
       " 'ABET': {'O1': 'Identify, formulate, and solve complex engineering problems',\n",
       "  'O2': 'Apply engineering design to produce solutions',\n",
       "  'O3': 'Communicate effectively with a range of audiences',\n",
       "  'O4': 'Recognize ethical and professional responsibilities in engineering situations',\n",
       "  'O5': 'Function effectively on a team',\n",
       "  'O6': 'Develop and conduct appropriate experimentation',\n",
       "  'O7': 'Acquire and apply new knowledge'},\n",
       " 'competencias genericas': {'1a': 'Comunicación en lengua materna',\n",
       "  '1b': 'Comprensión lectora en inglés',\n",
       "  '1c': 'Comunicación en segunda lengua',\n",
       "  '1d': 'Pensamiento matemático',\n",
       "  '1e': 'Cultura científica y tecnológica',\n",
       "  '1f': 'Ética y ciudadanía',\n",
       "  '1g': 'Aprender a aprender',\n",
       "  '1h': 'Pensamiento crítico',\n",
       "  '1i': 'Trabajo en equipo y en ambientes interculturales',\n",
       "  '1j': 'Espíritu emprendedor',\n",
       "  '1k': 'Cuidado del cuerpo',\n",
       "  '1l': 'Pensamiento sistémico'},\n",
       " 'SABER PRO': {'SP1': 'Razonamiento cuantitativo',\n",
       "  'SP2': 'Lectura crítica',\n",
       "  'SP3': 'Comunicación escrita',\n",
       "  'SP4': 'Competencias ciudadanas',\n",
       "  'SP5': 'Inglés'},\n",
       " 'dimensiones': {'D1': 'Transdisciplinar',\n",
       "  'D2': 'Ética',\n",
       "  'D3': 'Investigación',\n",
       "  'D4': 'Internacional',\n",
       "  'D5': 'Espíritu emprendedor',\n",
       "  'D6': 'Regional'}}"
      ]
     },
     "execution_count": 2,
     "metadata": {},
     "output_type": "execute_result"
    }
   ],
   "source": [
    "with open(DESCRIPTION_FILE, 'r', encoding='utf-8') as f:\n",
    "    desc_data = json.load(f)\n",
    "desc_data"
   ]
  },
  {
   "cell_type": "code",
   "execution_count": 6,
   "metadata": {},
   "outputs": [
    {
     "data": {
      "text/plain": [
       "{'O1': {'description': 'Capacidad para identificar, formular y resolver problemas complejos de ingeniería aplicando principios de ingeniería, ciencia y matemáticas',\n",
       "  'indicadores': {'1.1': 'Identificar los problemas y las teorías y conceptos aplicables',\n",
       "   '1.2': 'Formular el problema utilizando objetivos, suposiciones y restricciones apropiadas aplicando principios de ingeniería, ciencia y matemáticas',\n",
       "   '1.3': 'Resolver y evaluar soluciones de problemas y adoptar una solución adecuada aplicando principios de ingeniería, ciencia y matemáticas.'}},\n",
       " 'O2': {'description': 'Capacidad para aplicar el diseño de ingeniería para producir soluciones que satisfagan las necesidades especificadas teniendo en cuenta la salud pública, la seguridad y el bienestar, así como los factores globales, culturales, sociales, ambientales y económicos.',\n",
       "  'indicadores': {'2.1': 'Definir las especificaciones y restricciones del diseño y utilizar metodologías y prácticas de diseño probadas y los recursos disponibles para lograr la intención del diseño.',\n",
       "   '2.2': 'Producir alternativas de diseño',\n",
       "   '2.3': 'Verificar el diseño del componente/sistema/proceso contra las especificaciones y restricciones del diseño.'}},\n",
       " 'O3': {'description': 'Capacidad para comunicarse eficazmente con una serie de audiencias',\n",
       "  'indicadores': {'3.1': 'Comunicar ideas técnicas en informes técnicos escritos, incluyendo gráficos y dibujos de ingeniería, etc.',\n",
       "   '3.2': 'Realizar presentaciones técnicas orales efectivas a audiencias objetivo'}},\n",
       " 'O4': {'description': 'Capacidad para reconocer las responsabilidades éticas y profesionales en situaciones de ingeniería y hacer juicios informados, que deben considerar el impacto de las soluciones de ingeniería en contextos globales, económicos, ambientales y sociales.',\n",
       "  'indicadores': {'4.1': 'Comprender y aplicar los estándares profesionales y éticos de la ingeniería al tratar con la seguridad y el interés público considerando las pautas sociales y económicas y las leyes regulatorias.',\n",
       "   '4.2': 'Reconocer el impacto de las soluciones de ingeniería en contextos globales, económicos, ambientales y sociales utilizando investigación y desarrollo actualizados en ingeniería civil.',\n",
       "   '4.3': 'Reconocer los problemas contemporáneos locales, nacionales, regionales y globales en la disciplina de la ingeniería civil.'}},\n",
       " 'O5': {'description': 'Capacidad para funcionar eficazmente en un equipo cuyos miembros conjuntamente proporcionan liderazgo, crean un entorno colaborativo e inclusivo, establecen metas, planifican tareas y cumplen objetivos.',\n",
       "  'indicadores': {'5.1': 'Desarrollar planes de trabajo en equipo y asignar recursos y tareas',\n",
       "   '5.2': 'Participar, comunicarse y funcionar eficazmente en proyectos de trabajo en equipo'}},\n",
       " 'O6': {'description': 'Capacidad para desarrollar y llevar a cabo la experimentación adecuada, analizar e interpretar los datos y utilizar el juicio de ingeniería para sacar conclusiones',\n",
       "  'indicadores': {'6.1': 'Utilizar el equipo de laboratorio para realizar experimentos',\n",
       "   '6.2': 'Utilizar sistemas de adquisición de datos, hardware y software para recoger, analizar e interpretar datos',\n",
       "   '6.3': 'Preparar un informe técnico profesional'}},\n",
       " 'O7': {'description': 'Capacidad para adquirir y aplicar nuevos conocimientos según sea necesario, utilizando estrategias de aprendizaje adecuadas',\n",
       "  'indicadores': {'7.1': 'Demostrar la capacidad de participar en estrategias independientes de aprendizaje a lo largo de la vida.'}}}"
      ]
     },
     "execution_count": 6,
     "metadata": {},
     "output_type": "execute_result"
    }
   ],
   "source": [
    "with open(ABET_ES_FILE, 'r', encoding='utf-8') as f:\n",
    "    abet_data = json.load(f)\n",
    "abet_data"
   ]
  },
  {
   "cell_type": "code",
   "execution_count": 7,
   "metadata": {},
   "outputs": [
    {
     "name": "stdout",
     "output_type": "stream",
     "text": [
      "C1-Analiza y modela fenómenos y procesos para resolver problemas de gestión de información y del desarrollo de software, utilizando los fundamentos de las ciencias naturales y de la Ingeniería, con una visión sistémica del entorno.\n",
      "C2-Diseña sistemas, componentes o procesos para satisfacer requerimientos, restricciones y especificaciones técnicas relacionadas con la gestión de información y el desarrollo de software, considerando aspectos técnicos y económicos.\n"
     ]
    }
   ],
   "source": [
    "for e in comp[\"especificas\"]:\n",
    "    print(f'{e}-{desc_data[\"competencias especificas\"][e]}')"
   ]
  },
  {
   "cell_type": "code",
   "execution_count": 8,
   "metadata": {},
   "outputs": [
    {
     "name": "stdout",
     "output_type": "stream",
     "text": [
      "1b-Comprensión lectora en inglés\n",
      "1e-Cultura científica y tecnológica\n"
     ]
    }
   ],
   "source": [
    "for g in comp[\"genericas\"]:\n",
    "    print(f'{g}-{desc_data[\"competencias genericas\"][g]}')\n",
    "\n"
   ]
  },
  {
   "cell_type": "code",
   "execution_count": 9,
   "metadata": {},
   "outputs": [
    {
     "name": "stdout",
     "output_type": "stream",
     "text": [
      "SP5-Inglés\n"
     ]
    }
   ],
   "source": [
    "for a in comp[\"saberpro\"]:\n",
    "    print(f'{a}-{desc_data[\"SABER PRO\"][a]}')\n",
    "\n"
   ]
  },
  {
   "cell_type": "code",
   "execution_count": 10,
   "metadata": {},
   "outputs": [
    {
     "name": "stdout",
     "output_type": "stream",
     "text": [
      "No hay dimensiones\n"
     ]
    }
   ],
   "source": [
    "if len(comp[\"dimension\"])==0:\n",
    "    print(\"No hay dimensiones\")\n",
    "else:\n",
    "    for d in comp[\"dimension\"]:\n",
    "        print(f'{d}-{desc_data[\"dimensiones\"][a]}')"
   ]
  },
  {
   "cell_type": "code",
   "execution_count": 17,
   "metadata": {},
   "outputs": [],
   "source": [
    "def get_abet(abet):\n",
    "    with open(ABET_ES_FILE, 'r', encoding='utf-8') as f:\n",
    "        abet_data = json.load(f)\n",
    "    \n",
    "    output = {}\n",
    "\n",
    "    for indicator in abet:\n",
    "        for objective, d in abet_data.items():\n",
    "            #print(objective)\n",
    "            #print(d)\n",
    "            if indicator in d[\"indicadores\"]:\n",
    "                if objective not in output:\n",
    "                    output[objective] = {\"description\": abet_data[objective][\"description\"], \"indicadores\": []}\n",
    "                output[objective][\"indicadores\"].append(f\"{indicator}: {d['indicadores'][indicator]}\")\n",
    "\n",
    "    abet_str = \"\"\n",
    "    # Imprimir la salida en el formato requerido\n",
    "    for objective, d in output.items():\n",
    "        abet_str += f\"{objective}: {d['description']}\"\n",
    "        for indicator in d[\"indicadores\"]:\n",
    "            abet_str += f\"  {indicator}\"\n",
    "\n",
    "    return abet_str "
   ]
  },
  {
   "cell_type": "code",
   "execution_count": 18,
   "metadata": {},
   "outputs": [
    {
     "data": {
      "text/plain": [
       "'O1: Capacidad para identificar, formular y resolver problemas complejos de ingeniería aplicando principios de ingeniería, ciencia y matemáticas\\n  1.1: Identificar los problemas y las teorías y conceptos aplicables\\n  1.3: Resolver y evaluar soluciones de problemas y adoptar una solución adecuada aplicando principios de ingeniería, ciencia y matemáticas.\\nO6: Capacidad para desarrollar y llevar a cabo la experimentación adecuada, analizar e interpretar los datos y utilizar el juicio de ingeniería para sacar conclusiones\\n  6.1: Utilizar el equipo de laboratorio para realizar experimentos\\n  6.3: Preparar un informe técnico profesional\\n'"
      ]
     },
     "execution_count": 18,
     "metadata": {},
     "output_type": "execute_result"
    }
   ],
   "source": [
    "get_abet(comp[\"abet\"])"
   ]
  },
  {
   "cell_type": "code",
   "execution_count": null,
   "metadata": {},
   "outputs": [],
   "source": [
    "# Imprimir la salida en el formato requerido\n",
    "for objective, d in output.items():\n",
    "    print(f\"{objective}: {d['description']}\")\n",
    "    for indicator in d[\"indicadores\"]:\n",
    "        print(f\"  {indicator}\")\n"
   ]
  },
  {
   "cell_type": "code",
   "execution_count": 28,
   "metadata": {},
   "outputs": [
    {
     "ename": "KeyError",
     "evalue": "'indicadores'",
     "output_type": "error",
     "traceback": [
      "\u001b[1;31m---------------------------------------------------------------------------\u001b[0m",
      "\u001b[1;31mKeyError\u001b[0m                                  Traceback (most recent call last)",
      "Cell \u001b[1;32mIn[28], line 65\u001b[0m\n\u001b[0;32m     63\u001b[0m \u001b[38;5;28;01mfor\u001b[39;00m indicator \u001b[38;5;129;01min\u001b[39;00m abet:\n\u001b[0;32m     64\u001b[0m     \u001b[38;5;28;01mfor\u001b[39;00m objective, data \u001b[38;5;129;01min\u001b[39;00m json_data\u001b[38;5;241m.\u001b[39mitems():\n\u001b[1;32m---> 65\u001b[0m         \u001b[38;5;28;01mif\u001b[39;00m indicator \u001b[38;5;129;01min\u001b[39;00m \u001b[43mdata\u001b[49m\u001b[43m[\u001b[49m\u001b[38;5;124;43m\"\u001b[39;49m\u001b[38;5;124;43mindicadores\u001b[39;49m\u001b[38;5;124;43m\"\u001b[39;49m\u001b[43m]\u001b[49m:\n\u001b[0;32m     66\u001b[0m             \u001b[38;5;28;01mif\u001b[39;00m objective \u001b[38;5;129;01mnot\u001b[39;00m \u001b[38;5;129;01min\u001b[39;00m output:\n\u001b[0;32m     67\u001b[0m                 output[objective] \u001b[38;5;241m=\u001b[39m {\u001b[38;5;124m\"\u001b[39m\u001b[38;5;124mdescription\u001b[39m\u001b[38;5;124m\"\u001b[39m: data[\u001b[38;5;124m\"\u001b[39m\u001b[38;5;124mdescription\u001b[39m\u001b[38;5;124m\"\u001b[39m], \u001b[38;5;124m\"\u001b[39m\u001b[38;5;124mindicadores\u001b[39m\u001b[38;5;124m\"\u001b[39m: []}\n",
      "\u001b[1;31mKeyError\u001b[0m: 'indicadores'"
     ]
    }
   ],
   "source": [
    "# El JSON proporcionado (lo definiré como un diccionario de Python)\n",
    "json_data = {\n",
    "    \"O1\": {\n",
    "        \"description\": \"Capacidad para identificar, formular y resolver problemas complejos de ingeniería aplicando principios de ingeniería, ciencia y matemáticas\",\n",
    "        \"Indicadores\": {\n",
    "            \"1.1\": \"Identificar los problemas y las teorías y conceptos aplicables\",\n",
    "            \"1.2\": \"Formular el problema utilizando objetivos, suposiciones y restricciones apropiadas aplicando principios de ingeniería, ciencia y matemáticas\",\n",
    "            \"1.3\": \"Resolver y evaluar soluciones de problemas y adoptar una solución adecuada aplicando principios de ingeniería, ciencia y matemáticas.\"\n",
    "        }\n",
    "    },\n",
    "    \"O2\": {\n",
    "        \"description\": \"Capacidad para aplicar el diseño de ingeniería para producir soluciones que satisfagan las necesidades especificadas teniendo en cuenta la salud pública, la seguridad y el bienestar, así como los factores globales, culturales, sociales, ambientales y económicos.\",\n",
    "        \"indicadores\": {\n",
    "            \"2.1\": \"Definir las especificaciones y restricciones del diseño y utilizar metodologías y prácticas de diseño probadas y los recursos disponibles para lograr la intención del diseño.\",\n",
    "            \"2.2\": \"Producir alternativas de diseño\",\n",
    "            \"2.3\": \"Verificar el diseño del componente/sistema/proceso contra las especificaciones y restricciones del diseño.\"\n",
    "        }\n",
    "    },\n",
    "    \"O3\": {\n",
    "        \"description\": \"Capacidad para comunicarse eficazmente con una serie de audiencias\",\n",
    "        \"indicadores\": {\n",
    "            \"3.1\": \"Comunicar ideas técnicas en informes técnicos escritos, incluyendo gráficos y dibujos de ingeniería, etc.\",\n",
    "            \"3.2\": \"Realizar presentaciones técnicas orales efectivas a audiencias objetivo\"\n",
    "        }\n",
    "    },\n",
    "    \"O4\": {\n",
    "        \"description\": \"Capacidad para reconocer las responsabilidades éticas y profesionales en situaciones de ingeniería y hacer juicios informados, que deben considerar el impacto de las soluciones de ingeniería en contextos globales, económicos, ambientales y sociales.\",\n",
    "        \"indicadores\": {\n",
    "            \"4.1\": \"Comprender y aplicar los estándares profesionales y éticos de la ingeniería al tratar con la seguridad y el interés público considerando las pautas sociales y económicas y las leyes regulatorias.\",\n",
    "            \"4.2\": \"Reconocer el impacto de las soluciones de ingeniería en contextos globales, económicos, ambientales y sociales utilizando investigación y desarrollo actualizados en ingeniería civil.\",\n",
    "            \"4.3\": \"Reconocer los problemas contemporáneos locales, nacionales, regionales y globales en la disciplina de la ingeniería civil.\"\n",
    "        }\n",
    "    },\n",
    "    \"O5\": {\n",
    "        \"description\": \"Capacidad para funcionar eficazmente en un equipo cuyos miembros conjuntamente proporcionan liderazgo, crean un entorno colaborativo e inclusivo, establecen metas, planifican tareas y cumplen objetivos.\",\n",
    "        \"indicadores\": {\n",
    "            \"5.1\": \"Desarrollar planes de trabajo en equipo y asignar recursos y tareas\",\n",
    "            \"5.2\": \"Participar, comunicarse y funcionar eficazmente en proyectos de trabajo en equipo\"\n",
    "        }\n",
    "    },\n",
    "    \"O6\": {\n",
    "        \"description\": \"Capacidad para desarrollar y llevar a cabo la experimentación adecuada, analizar e interpretar los datos y utilizar el juicio de ingeniería para sacar conclusiones\",\n",
    "        \"indicadores\": {\n",
    "            \"6.1\": \"Utilizar el equipo de laboratorio para realizar experimentos\",\n",
    "            \"6.2\": \"Utilizar sistemas de adquisición de datos, hardware y software para recoger, analizar e interpretar datos\",\n",
    "            \"6.3\": \"Preparar un informe técnico profesional\"\n",
    "        }\n",
    "    },\n",
    "    \"O7\": {\n",
    "        \"description\": \"Capacidad para adquirir y aplicar nuevos conocimientos según sea necesario, utilizando estrategias de aprendizaje adecuadas\",\n",
    "        \"indicadores\": {\n",
    "            \"7.1\": \"Demostrar la capacidad de participar en estrategias independientes de aprendizaje a lo largo de la vida.\"\n",
    "        }\n",
    "    }\n",
    "}\n",
    "\n",
    "# Lista 'abet' con los códigos de indicadores que queremos filtrar\n",
    "abet = ['1.1', '1.3', '6.1', '6.3']\n",
    "\n",
    "# Iteramos sobre la lista 'abet' y extraemos las descripciones e indicadores correspondientes\n",
    "output = {}\n",
    "\n",
    "for indicator in abet:\n",
    "    for objective, data in json_data.items():\n",
    "        if indicator in data[\"indicadores\"]:\n",
    "            if objective not in output:\n",
    "                output[objective] = {\"description\": data[\"description\"], \"indicadores\": []}\n",
    "            output[objective][\"indicadores\"].append(f\"{indicator}: {data['Indicadores'][indicator]}\")\n",
    "\n",
    "# Imprimir la salida en el formato requerido\n",
    "for objective, data in output.items():\n",
    "    print(f\"{objective}: {data['description']}\")\n",
    "    for indicator in data[\"indicadores\"]:\n",
    "        print(f\"  {indicator}\")\n"
   ]
  },
  {
   "cell_type": "code",
   "execution_count": 12,
   "metadata": {},
   "outputs": [
    {
     "name": "stdout",
     "output_type": "stream",
     "text": [
      "C1\n"
     ]
    },
    {
     "ename": "KeyError",
     "evalue": "'competencias'",
     "output_type": "error",
     "traceback": [
      "\u001b[1;31m---------------------------------------------------------------------------\u001b[0m",
      "\u001b[1;31mKeyError\u001b[0m                                  Traceback (most recent call last)",
      "Cell \u001b[1;32mIn[12], line 4\u001b[0m\n\u001b[0;32m      2\u001b[0m \u001b[38;5;28;01mfor\u001b[39;00m e \u001b[38;5;129;01min\u001b[39;00m esp:\n\u001b[0;32m      3\u001b[0m     \u001b[38;5;28mprint\u001b[39m(e)\n\u001b[1;32m----> 4\u001b[0m     \u001b[38;5;28mprint\u001b[39m(\u001b[43mdata\u001b[49m\u001b[43m[\u001b[49m\u001b[38;5;124;43m\"\u001b[39;49m\u001b[38;5;124;43mcompetencias\u001b[39;49m\u001b[38;5;124;43m\"\u001b[39;49m\u001b[43m]\u001b[49m[e])\n",
      "\u001b[1;31mKeyError\u001b[0m: 'competencias'"
     ]
    }
   ],
   "source": [
    "esp = comp[\"especificas\"]\n",
    "for e in esp:\n",
    "    print(e)\n",
    "    print(data[\"competencias\"][e])"
   ]
  },
  {
   "cell_type": "code",
   "execution_count": 7,
   "metadata": {},
   "outputs": [],
   "source": [
    "find_commptences_course(\"22A00\")"
   ]
  },
  {
   "cell_type": "code",
   "execution_count": 8,
   "metadata": {},
   "outputs": [
    {
     "name": "stdout",
     "output_type": "stream",
     "text": [
      "                                          Cursos\n",
      "0   LÓGICA ALGORITMICA/PENSAMIENTO COMPUTACIONAL\n",
      "1                   PROGRAMACIÓN DE COMPUTADORES\n",
      "2                                          APO I\n",
      "3                    MATEMÁTICAS COMPUTACIONALES\n",
      "4                              MÉTODOS NUMÉRICOS\n",
      "5                                         APO II\n",
      "6                           SISTEMAS TELEMÁTICOS\n",
      "7                          MATEMÁTICAS DISCRETAS\n",
      "8                            ESTRUCTURA DE DATOS\n",
      "9                       INGENIERÍA DE SOFTWARE I\n",
      "10                SISTEMAS DE CONTROL AUTOMÁTICO\n",
      "11            DESARROLLO DE APLICACIONES MÓVILES\n",
      "12                       MODELOS DE PERSISTENCIA\n",
      "13     INFRAESTRUCTURA Y SEGURIDAD COMPUTACIONAL\n",
      "14                     INGENIERÍA DE SOFTWARE II\n",
      "15                          AGENTES INTELIGENTES\n",
      "16                                 GESTIÓN DE TI\n",
      "17              DESARROLLO DE APLICACIONES UI/UX\n",
      "18                      ARQUITECTURA DE SOFTWARE\n",
      "19                        COMPUTACIÓN EN LA NUBE\n",
      "20      DESARROLLO DE APLICACIONES EMPRESARIALES\n",
      "21                      INTELIGENCIA DE NEGOCIOS\n",
      "22            MODELOS DE NEGOCIACIÓN TECNOLÓGICA\n",
      "23                 OBJETOS Y ESTRUCTURA DE DATOS\n"
     ]
    }
   ],
   "source": [
    "# Definir la estructura de los datos\n",
    "data = {\n",
    "    'Cursos': ['LÓGICA ALGORITMICA/PENSAMIENTO COMPUTACIONAL', 'PROGRAMACIÓN DE COMPUTADORES', 'APO I', 'MATEMÁTICAS COMPUTACIONALES', 'MÉTODOS NUMÉRICOS', 'APO II', 'SISTEMAS TELEMÁTICOS', 'MATEMÁTICAS DISCRETAS', 'ESTRUCTURA DE DATOS', 'INGENIERÍA DE SOFTWARE I', 'SISTEMAS DE CONTROL AUTOMÁTICO', 'DESARROLLO DE APLICACIONES MÓVILES', 'MODELOS DE PERSISTENCIA', 'INFRAESTRUCTURA Y SEGURIDAD COMPUTACIONAL', 'INGENIERÍA DE SOFTWARE II', 'AGENTES INTELIGENTES', 'GESTIÓN DE TI', 'DESARROLLO DE APLICACIONES UI/UX', 'ARQUITECTURA DE SOFTWARE', 'COMPUTACIÓN EN LA NUBE', 'DESARROLLO DE APLICACIONES EMPRESARIALES', 'INTELIGENCIA DE NEGOCIOS', 'MODELOS DE NEGOCIACIÓN TECNOLÓGICA', 'OBJETOS Y ESTRUCTURA DE DATOS'],\n",
    "   \n",
    "}\n",
    "\n",
    "# Crear DataFrame\n",
    "df = pd.DataFrame(data)\n",
    "\n",
    "# Mostrar el DataFrame\n",
    "print(df)\n"
   ]
  }
 ],
 "metadata": {
  "kernelspec": {
   "display_name": ".venv",
   "language": "python",
   "name": "python3"
  },
  "language_info": {
   "codemirror_mode": {
    "name": "ipython",
    "version": 3
   },
   "file_extension": ".py",
   "mimetype": "text/x-python",
   "name": "python",
   "nbconvert_exporter": "python",
   "pygments_lexer": "ipython3",
   "version": "3.10.0"
  }
 },
 "nbformat": 4,
 "nbformat_minor": 2
}
